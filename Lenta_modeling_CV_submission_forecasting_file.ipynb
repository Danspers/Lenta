{
 "cells": [
  {
   "cell_type": "markdown",
   "id": "663a8953",
   "metadata": {},
   "source": [
    "# Подготовка к прогнозированию\n"
   ]
  },
  {
   "cell_type": "code",
   "execution_count": 1,
   "id": "4ef828c5",
   "metadata": {
    "scrolled": true
   },
   "outputs": [],
   "source": [
    "import os\n",
    "import pandas as pd \n",
    "import numpy as np\n",
    "\n",
    "import matplotlib.pyplot as plt \n",
    "import seaborn as sns  \n",
    "from IPython.display import Markdown\n"
   ]
  },
  {
   "cell_type": "markdown",
   "id": "6d4cb51a",
   "metadata": {},
   "source": [
    "## Загрузка данных "
   ]
  },
  {
   "cell_type": "code",
   "execution_count": 2,
   "id": "125d9604",
   "metadata": {},
   "outputs": [],
   "source": [
    "data_path = \"C:\\\\Users\\\\Natalia\\\\Desktop\\\\Lenta_YM\\\\sp_sales_task\\\\\"\n",
    "\n",
    "if os.path.exists(f\"{data_path}sales_df_train.csv\"):\n",
    "    top_50_rub_data = pd.read_csv(f\"{data_path}top_50_rub_data.csv\")\n",
    "    sales_submission = pd.read_csv(f\"{data_path}sales_submission.csv\")\n",
    "    holidays = pd.read_csv(f\"{data_path}holidays.csv\")\n",
    "elif os.path.exists(\"top_50_rub_data.csv\"):\n",
    "    top_50_rub_data = pd.read_csv(\"top_50_rub_data.csv\")\n",
    "    sales_submission = pd.read_csv(\"sales_submission.csv\") \n",
    "    holidays = pd.read_csv(\"holidays.csv\")\n",
    "else:\n",
    "    print(\"Файлы не найдены. Проверьте путь к файлам.\")"
   ]
  },
  {
   "cell_type": "markdown",
   "id": "5dcc73cf",
   "metadata": {},
   "source": [
    "## Pipeline прогнозирования \n",
    "\n",
    "### Добаление признаков из исходного датасета в тестовую выборку  \n",
    "В тестовую выборку необходимо добавить признки из исходного датасета.  \n",
    "Ориентируемся на значения столбцов, содержащих названия товаров и магазинов, чтобы правильно заполнить строки тстовой выборки.\n",
    "\n",
    "Преобразуем датафрейм, для которого нам необходимо заполнить целевые признаки, используя предобученную модель. "
   ]
  },
  {
   "cell_type": "markdown",
   "id": "63530882",
   "metadata": {},
   "source": [
    "**Добавление цены в качестве признака**\n",
    "\n",
    "<img src=\"https://upload.wikimedia.org/wikipedia/commons/b/ba/Warning_sign_4.0.png\" align=left width=44, heigth=33>\n",
    "\n",
    "**Отметим, что выручка за товар pr_sales_in_rub, которую мы имеем в исходном датасете находится не в прямой зависимости от себестоимости. На нее влияют промо-акции, которые мы спрогнозировать не можем, также на нее влияет поток покупателей с определенными льготами (например, карта Ленты, социальные карты и др. льготы) и пр.**\n",
    "\n",
    "\n",
    "По паре товар-магазин нужно добавить цену в качестве признака. \n",
    "\n",
    "Это можно сделать несколькими способами:\n",
    "1. спрогнозировать с помощью Prophet или Arima или другой модели. Но на это требуется больше времени, мы не успеваем в рамках хакатона реализовать задумку. \n",
    "2. Заполнить данные по цене средним значением цены за последние 14 дней. Это будет честным (не будет считаться подглядыванием), на мой взгляд, поскольку цена на продукты в течение двух недель не сильно меняется (если это не кризис или еще что-то). Например, если я покупаю хлеб, за 50 рублей, то и через две недели он будет скорее всего 50руб. \n",
    "3. Можно заложить инфляцию (официальную) на продукт, но это уже слишком усложняет манипуляции с ценой, но едва ли близко к правде. \n",
    "4. Заполнить срезней ценой по каждой паре товар-магазин по всему датасету. \n",
    "\n",
    "Будем заполнять данные по цене средней ценой по каждой паре товар-магазин. "
   ]
  },
  {
   "cell_type": "code",
   "execution_count": 3,
   "id": "d8619d25",
   "metadata": {},
   "outputs": [],
   "source": [
    "# top_50_rub_data.info()"
   ]
  },
  {
   "cell_type": "code",
   "execution_count": 4,
   "id": "1511a895",
   "metadata": {
    "scrolled": false
   },
   "outputs": [],
   "source": [
    "holidays['date'] = pd.to_datetime(holidays['date'])\n",
    "# holidays.head(5)"
   ]
  },
  {
   "cell_type": "code",
   "execution_count": 5,
   "id": "193b57a7",
   "metadata": {},
   "outputs": [],
   "source": [
    "# holidays.info()"
   ]
  },
  {
   "cell_type": "code",
   "execution_count": 6,
   "id": "fbee584e",
   "metadata": {
    "scrolled": true
   },
   "outputs": [],
   "source": [
    "sales_submission['date'] = pd.to_datetime(sales_submission['date'])\n",
    "sales_submission = sales_submission.drop(['target'], axis=1)\n",
    "# sales_submission.info()"
   ]
  },
  {
   "cell_type": "code",
   "execution_count": 7,
   "id": "4c016c08",
   "metadata": {},
   "outputs": [
    {
     "name": "stdout",
     "output_type": "stream",
     "text": [
      "<class 'pandas.core.frame.DataFrame'>\n",
      "RangeIndex: 43694 entries, 0 to 43693\n",
      "Data columns (total 4 columns):\n",
      " #   Column     Non-Null Count  Dtype         \n",
      "---  ------     --------------  -----         \n",
      " 0   st_id      43694 non-null  object        \n",
      " 1   pr_sku_id  43694 non-null  object        \n",
      " 2   date       43694 non-null  datetime64[ns]\n",
      " 3   holiday    43694 non-null  int64         \n",
      "dtypes: datetime64[ns](1), int64(1), object(2)\n",
      "memory usage: 1.3+ MB\n"
     ]
    }
   ],
   "source": [
    "sales_submission = sales_submission.merge(holidays, on='date', how='left')\n",
    "sales_submission.info()"
   ]
  },
  {
   "cell_type": "markdown",
   "id": "afdbf4e8",
   "metadata": {},
   "source": [
    "Для обучения модели и для ее тестирования нужны датасеты, содержащие одинаковые колонки признаков. То есть к датасету sales_submission необходимо добавить недостающие колонки из обучающей выборки (например, группа товаров или локация магазина), а также спрогнозировать те признаки и подать в файл, которые нелхя скопировтаь (например, цена). "
   ]
  },
  {
   "cell_type": "code",
   "execution_count": 8,
   "id": "a81662c1",
   "metadata": {},
   "outputs": [
    {
     "name": "stdout",
     "output_type": "stream",
     "text": [
      "<class 'pandas.core.frame.DataFrame'>\n",
      "RangeIndex: 59786 entries, 0 to 59785\n",
      "Data columns (total 17 columns):\n",
      " #   Column             Non-Null Count  Dtype  \n",
      "---  ------             --------------  -----  \n",
      " 0   date               59786 non-null  object \n",
      " 1   st_id              59786 non-null  object \n",
      " 2   pr_sku_id          59786 non-null  object \n",
      " 3   pr_sales_in_units  59786 non-null  float64\n",
      " 4   pr_sales_in_rub    59786 non-null  float64\n",
      " 5   holiday            59786 non-null  int64  \n",
      " 6   pr_group_id        59786 non-null  object \n",
      " 7   pr_cat_id          59786 non-null  object \n",
      " 8   pr_subcat_id       59786 non-null  object \n",
      " 9   pr_uom_id          59786 non-null  int64  \n",
      " 10  st_city_id         59786 non-null  object \n",
      " 11  st_division_code   59786 non-null  object \n",
      " 12  st_type_format_id  59786 non-null  int64  \n",
      " 13  st_type_loc_id     59786 non-null  int64  \n",
      " 14  st_type_size_id    59786 non-null  int64  \n",
      " 15  product_price      59786 non-null  float64\n",
      " 16  average_prices     59786 non-null  float64\n",
      "dtypes: float64(4), int64(5), object(8)\n",
      "memory usage: 7.8+ MB\n"
     ]
    }
   ],
   "source": [
    "top_50_rub_data_modifed = top_50_rub_data.copy()\n",
    "top_50_rub_data_modifed.info()"
   ]
  },
  {
   "cell_type": "code",
   "execution_count": 10,
   "id": "d842c10f",
   "metadata": {},
   "outputs": [],
   "source": [
    "top_50_rub_data_modifed = top_50_rub_data_modifed.drop([\n",
    "    'pr_sales_in_rub', 'pr_cat_id', 'st_division_code', \n",
    "    'pr_group_id', 'st_city_id', 'pr_subcat_id',\n",
    "    'pr_sales_in_units', 'product_price', 'holiday', 'date'], axis=1)"
   ]
  },
  {
   "cell_type": "code",
   "execution_count": 11,
   "id": "b3ba56d4",
   "metadata": {},
   "outputs": [
    {
     "name": "stdout",
     "output_type": "stream",
     "text": [
      "<class 'pandas.core.frame.DataFrame'>\n",
      "RangeIndex: 59786 entries, 0 to 59785\n",
      "Data columns (total 7 columns):\n",
      " #   Column             Non-Null Count  Dtype  \n",
      "---  ------             --------------  -----  \n",
      " 0   st_id              59786 non-null  object \n",
      " 1   pr_sku_id          59786 non-null  object \n",
      " 2   pr_uom_id          59786 non-null  int64  \n",
      " 3   st_type_format_id  59786 non-null  int64  \n",
      " 4   st_type_loc_id     59786 non-null  int64  \n",
      " 5   st_type_size_id    59786 non-null  int64  \n",
      " 6   average_prices     59786 non-null  float64\n",
      "dtypes: float64(1), int64(4), object(2)\n",
      "memory usage: 3.2+ MB\n"
     ]
    }
   ],
   "source": [
    "top_50_rub_data_modifed.info()"
   ]
  },
  {
   "cell_type": "markdown",
   "id": "6c9cb2ce",
   "metadata": {},
   "source": [
    "Нам необходимо оставть только уникальные сочетания для пар товар-магазин. Найдем и удалим явные дубликаты"
   ]
  },
  {
   "cell_type": "code",
   "execution_count": 12,
   "id": "0c747425",
   "metadata": {},
   "outputs": [
    {
     "name": "stdout",
     "output_type": "stream",
     "text": [
      "Количество явных дубликатов: 59500\n"
     ]
    }
   ],
   "source": [
    "print('Количество явных дубликатов:', top_50_rub_data_modifed.duplicated().sum())"
   ]
  },
  {
   "cell_type": "code",
   "execution_count": 13,
   "id": "f35ed10b",
   "metadata": {
    "scrolled": false
   },
   "outputs": [
    {
     "name": "stdout",
     "output_type": "stream",
     "text": [
      "<class 'pandas.core.frame.DataFrame'>\n",
      "Index: 286 entries, 0 to 45634\n",
      "Data columns (total 7 columns):\n",
      " #   Column             Non-Null Count  Dtype  \n",
      "---  ------             --------------  -----  \n",
      " 0   st_id              286 non-null    object \n",
      " 1   pr_sku_id          286 non-null    object \n",
      " 2   pr_uom_id          286 non-null    int64  \n",
      " 3   st_type_format_id  286 non-null    int64  \n",
      " 4   st_type_loc_id     286 non-null    int64  \n",
      " 5   st_type_size_id    286 non-null    int64  \n",
      " 6   average_prices     286 non-null    float64\n",
      "dtypes: float64(1), int64(4), object(2)\n",
      "memory usage: 17.9+ KB\n"
     ]
    }
   ],
   "source": [
    "top_50_rub_data_modifed = top_50_rub_data_modifed.drop_duplicates()\n",
    "top_50_rub_data_modifed.info() "
   ]
  },
  {
   "cell_type": "code",
   "execution_count": 14,
   "id": "785793fe",
   "metadata": {},
   "outputs": [
    {
     "data": {
      "text/html": [
       "<div>\n",
       "<style scoped>\n",
       "    .dataframe tbody tr th:only-of-type {\n",
       "        vertical-align: middle;\n",
       "    }\n",
       "\n",
       "    .dataframe tbody tr th {\n",
       "        vertical-align: top;\n",
       "    }\n",
       "\n",
       "    .dataframe thead th {\n",
       "        text-align: right;\n",
       "    }\n",
       "</style>\n",
       "<table border=\"1\" class=\"dataframe\">\n",
       "  <thead>\n",
       "    <tr style=\"text-align: right;\">\n",
       "      <th></th>\n",
       "      <th>st_id</th>\n",
       "      <th>pr_sku_id</th>\n",
       "      <th>pr_uom_id</th>\n",
       "      <th>st_type_format_id</th>\n",
       "      <th>st_type_loc_id</th>\n",
       "      <th>st_type_size_id</th>\n",
       "      <th>average_prices</th>\n",
       "    </tr>\n",
       "  </thead>\n",
       "  <tbody>\n",
       "    <tr>\n",
       "      <th>0</th>\n",
       "      <td>fa7cdfad1a5aaf8370ebeda47a1ff1c3</td>\n",
       "      <td>c4a665596d4f67cecb7542c9fad407ee</td>\n",
       "      <td>1</td>\n",
       "      <td>1</td>\n",
       "      <td>1</td>\n",
       "      <td>12</td>\n",
       "      <td>123.216649</td>\n",
       "    </tr>\n",
       "    <tr>\n",
       "      <th>1</th>\n",
       "      <td>c81e728d9d4c2f636f067f89cc14862c</td>\n",
       "      <td>dce1f234d6424aa61f8e7ce0baffd9af</td>\n",
       "      <td>1</td>\n",
       "      <td>1</td>\n",
       "      <td>1</td>\n",
       "      <td>8</td>\n",
       "      <td>135.978656</td>\n",
       "    </tr>\n",
       "    <tr>\n",
       "      <th>2</th>\n",
       "      <td>f7e6c85504ce6e82442c770f7c8606f0</td>\n",
       "      <td>58ebafabd92e2e3a80d86b7bb7e88eda</td>\n",
       "      <td>1</td>\n",
       "      <td>1</td>\n",
       "      <td>1</td>\n",
       "      <td>12</td>\n",
       "      <td>192.968946</td>\n",
       "    </tr>\n",
       "    <tr>\n",
       "      <th>3</th>\n",
       "      <td>c81e728d9d4c2f636f067f89cc14862c</td>\n",
       "      <td>777d21d980f82aa8b4f26f4a4d3dda1d</td>\n",
       "      <td>1</td>\n",
       "      <td>1</td>\n",
       "      <td>1</td>\n",
       "      <td>8</td>\n",
       "      <td>290.611062</td>\n",
       "    </tr>\n",
       "    <tr>\n",
       "      <th>4</th>\n",
       "      <td>c81e728d9d4c2f636f067f89cc14862c</td>\n",
       "      <td>0a2090e24b6ae62b0b0fcaa67a72b5a0</td>\n",
       "      <td>1</td>\n",
       "      <td>1</td>\n",
       "      <td>1</td>\n",
       "      <td>8</td>\n",
       "      <td>135.325400</td>\n",
       "    </tr>\n",
       "  </tbody>\n",
       "</table>\n",
       "</div>"
      ],
      "text/plain": [
       "                              st_id                         pr_sku_id  \\\n",
       "0  fa7cdfad1a5aaf8370ebeda47a1ff1c3  c4a665596d4f67cecb7542c9fad407ee   \n",
       "1  c81e728d9d4c2f636f067f89cc14862c  dce1f234d6424aa61f8e7ce0baffd9af   \n",
       "2  f7e6c85504ce6e82442c770f7c8606f0  58ebafabd92e2e3a80d86b7bb7e88eda   \n",
       "3  c81e728d9d4c2f636f067f89cc14862c  777d21d980f82aa8b4f26f4a4d3dda1d   \n",
       "4  c81e728d9d4c2f636f067f89cc14862c  0a2090e24b6ae62b0b0fcaa67a72b5a0   \n",
       "\n",
       "   pr_uom_id  st_type_format_id  st_type_loc_id  st_type_size_id  \\\n",
       "0          1                  1               1               12   \n",
       "1          1                  1               1                8   \n",
       "2          1                  1               1               12   \n",
       "3          1                  1               1                8   \n",
       "4          1                  1               1                8   \n",
       "\n",
       "   average_prices  \n",
       "0      123.216649  \n",
       "1      135.978656  \n",
       "2      192.968946  \n",
       "3      290.611062  \n",
       "4      135.325400  "
      ]
     },
     "execution_count": 14,
     "metadata": {},
     "output_type": "execute_result"
    }
   ],
   "source": [
    "top_50_rub_data_modifed.head() "
   ]
  },
  {
   "cell_type": "markdown",
   "id": "14475092",
   "metadata": {},
   "source": [
    "**Выполним обьединение полученных датафреймов** \n",
    "\n",
    "Выполним внутреннее объединение (inner join) между subm_example и top_50_rub_data по столбцам 'st_id' и 'pr_sku_id', и результат будет содержать только строки, где значения в этих двух столбцах совпадают.\n",
    "\n",
    "Так мы избавимся от товаров, которые не вощли в нашу выорку топ-50 товаров и добавим информацию по товарам и магазинам, которую использовали в трейне. \n",
    "То есть, например, информация о локации магазина не будет подглядыванием, также как и то, что багет относится к категории хлеб. Эту информацию мы и добавляем. "
   ]
  },
  {
   "cell_type": "code",
   "execution_count": 15,
   "id": "35c65975",
   "metadata": {
    "scrolled": true
   },
   "outputs": [],
   "source": [
    "submission_modified = sales_submission.merge(top_50_rub_data_modifed, on=['st_id', 'pr_sku_id'], how='inner')\n",
    "# submission_modified.info()"
   ]
  },
  {
   "cell_type": "code",
   "execution_count": 16,
   "id": "ea15f118",
   "metadata": {},
   "outputs": [],
   "source": [
    "cat_features = ['st_id', 'pr_sku_id']\n",
    "for col in cat_features:\n",
    "    submission_modified[col] = submission_modified[col].astype('category')"
   ]
  },
  {
   "cell_type": "code",
   "execution_count": 17,
   "id": "136c7705",
   "metadata": {},
   "outputs": [],
   "source": [
    "# submission_modified"
   ]
  },
  {
   "cell_type": "code",
   "execution_count": 18,
   "id": "c1e248c4",
   "metadata": {},
   "outputs": [],
   "source": [
    "submission_modified = submission_modified.set_index('date')\n",
    "submission_modified.sort_index(inplace=True)"
   ]
  },
  {
   "cell_type": "code",
   "execution_count": 19,
   "id": "ec2a2777",
   "metadata": {},
   "outputs": [],
   "source": [
    "submission_modified = submission_modified.rename(columns={'average_prices': 'product_price'})"
   ]
  },
  {
   "cell_type": "code",
   "execution_count": 20,
   "id": "dbb76c81",
   "metadata": {
    "scrolled": true
   },
   "outputs": [
    {
     "data": {
      "text/html": [
       "<div>\n",
       "<style scoped>\n",
       "    .dataframe tbody tr th:only-of-type {\n",
       "        vertical-align: middle;\n",
       "    }\n",
       "\n",
       "    .dataframe tbody tr th {\n",
       "        vertical-align: top;\n",
       "    }\n",
       "\n",
       "    .dataframe thead th {\n",
       "        text-align: right;\n",
       "    }\n",
       "</style>\n",
       "<table border=\"1\" class=\"dataframe\">\n",
       "  <thead>\n",
       "    <tr style=\"text-align: right;\">\n",
       "      <th></th>\n",
       "      <th>st_id</th>\n",
       "      <th>pr_sku_id</th>\n",
       "      <th>holiday</th>\n",
       "      <th>pr_uom_id</th>\n",
       "      <th>st_type_format_id</th>\n",
       "      <th>st_type_loc_id</th>\n",
       "      <th>st_type_size_id</th>\n",
       "      <th>product_price</th>\n",
       "    </tr>\n",
       "    <tr>\n",
       "      <th>date</th>\n",
       "      <th></th>\n",
       "      <th></th>\n",
       "      <th></th>\n",
       "      <th></th>\n",
       "      <th></th>\n",
       "      <th></th>\n",
       "      <th></th>\n",
       "      <th></th>\n",
       "    </tr>\n",
       "  </thead>\n",
       "  <tbody>\n",
       "    <tr>\n",
       "      <th>2023-07-19</th>\n",
       "      <td>42a0e188f5033bc65bf8d78622277c4e</td>\n",
       "      <td>58ebafabd92e2e3a80d86b7bb7e88eda</td>\n",
       "      <td>0</td>\n",
       "      <td>1</td>\n",
       "      <td>1</td>\n",
       "      <td>1</td>\n",
       "      <td>12</td>\n",
       "      <td>192.968946</td>\n",
       "    </tr>\n",
       "    <tr>\n",
       "      <th>2023-07-19</th>\n",
       "      <td>c81e728d9d4c2f636f067f89cc14862c</td>\n",
       "      <td>cf91eca9321c9c272fb4e7cf4bcc6a43</td>\n",
       "      <td>0</td>\n",
       "      <td>17</td>\n",
       "      <td>1</td>\n",
       "      <td>1</td>\n",
       "      <td>8</td>\n",
       "      <td>36.348641</td>\n",
       "    </tr>\n",
       "    <tr>\n",
       "      <th>2023-07-19</th>\n",
       "      <td>42a0e188f5033bc65bf8d78622277c4e</td>\n",
       "      <td>5d560ea997068115892d2f0bd7cf91c3</td>\n",
       "      <td>0</td>\n",
       "      <td>1</td>\n",
       "      <td>1</td>\n",
       "      <td>1</td>\n",
       "      <td>12</td>\n",
       "      <td>165.998658</td>\n",
       "    </tr>\n",
       "    <tr>\n",
       "      <th>2023-07-19</th>\n",
       "      <td>c81e728d9d4c2f636f067f89cc14862c</td>\n",
       "      <td>0a68dd43c227b0e66d52665d6c3ca8ba</td>\n",
       "      <td>0</td>\n",
       "      <td>1</td>\n",
       "      <td>1</td>\n",
       "      <td>1</td>\n",
       "      <td>8</td>\n",
       "      <td>142.667930</td>\n",
       "    </tr>\n",
       "    <tr>\n",
       "      <th>2023-07-19</th>\n",
       "      <td>fa7cdfad1a5aaf8370ebeda47a1ff1c3</td>\n",
       "      <td>0a2090e24b6ae62b0b0fcaa67a72b5a0</td>\n",
       "      <td>0</td>\n",
       "      <td>1</td>\n",
       "      <td>1</td>\n",
       "      <td>1</td>\n",
       "      <td>12</td>\n",
       "      <td>135.325400</td>\n",
       "    </tr>\n",
       "  </tbody>\n",
       "</table>\n",
       "</div>"
      ],
      "text/plain": [
       "                                       st_id  \\\n",
       "date                                           \n",
       "2023-07-19  42a0e188f5033bc65bf8d78622277c4e   \n",
       "2023-07-19  c81e728d9d4c2f636f067f89cc14862c   \n",
       "2023-07-19  42a0e188f5033bc65bf8d78622277c4e   \n",
       "2023-07-19  c81e728d9d4c2f636f067f89cc14862c   \n",
       "2023-07-19  fa7cdfad1a5aaf8370ebeda47a1ff1c3   \n",
       "\n",
       "                                   pr_sku_id  holiday  pr_uom_id  \\\n",
       "date                                                               \n",
       "2023-07-19  58ebafabd92e2e3a80d86b7bb7e88eda        0          1   \n",
       "2023-07-19  cf91eca9321c9c272fb4e7cf4bcc6a43        0         17   \n",
       "2023-07-19  5d560ea997068115892d2f0bd7cf91c3        0          1   \n",
       "2023-07-19  0a68dd43c227b0e66d52665d6c3ca8ba        0          1   \n",
       "2023-07-19  0a2090e24b6ae62b0b0fcaa67a72b5a0        0          1   \n",
       "\n",
       "            st_type_format_id  st_type_loc_id  st_type_size_id  product_price  \n",
       "date                                                                           \n",
       "2023-07-19                  1               1               12     192.968946  \n",
       "2023-07-19                  1               1                8      36.348641  \n",
       "2023-07-19                  1               1               12     165.998658  \n",
       "2023-07-19                  1               1                8     142.667930  \n",
       "2023-07-19                  1               1               12     135.325400  "
      ]
     },
     "execution_count": 20,
     "metadata": {},
     "output_type": "execute_result"
    }
   ],
   "source": [
    "submission_modified.head()"
   ]
  },
  {
   "cell_type": "code",
   "execution_count": 21,
   "id": "2460f589",
   "metadata": {
    "scrolled": true
   },
   "outputs": [
    {
     "name": "stdout",
     "output_type": "stream",
     "text": [
      "<class 'pandas.core.frame.DataFrame'>\n",
      "DatetimeIndex: 3836 entries, 2023-07-19 to 2023-08-01\n",
      "Data columns (total 8 columns):\n",
      " #   Column             Non-Null Count  Dtype   \n",
      "---  ------             --------------  -----   \n",
      " 0   st_id              3836 non-null   category\n",
      " 1   pr_sku_id          3836 non-null   category\n",
      " 2   holiday            3836 non-null   int64   \n",
      " 3   pr_uom_id          3836 non-null   int64   \n",
      " 4   st_type_format_id  3836 non-null   int64   \n",
      " 5   st_type_loc_id     3836 non-null   int64   \n",
      " 6   st_type_size_id    3836 non-null   int64   \n",
      " 7   product_price      3836 non-null   float64 \n",
      "dtypes: category(2), float64(1), int64(5)\n",
      "memory usage: 220.1 KB\n"
     ]
    }
   ],
   "source": [
    "submission_modified.info()"
   ]
  },
  {
   "cell_type": "code",
   "execution_count": 22,
   "id": "2b5c86fc",
   "metadata": {},
   "outputs": [],
   "source": [
    "submission_modified.to_csv('submission_modified_2.csv', index=True)"
   ]
  },
  {
   "cell_type": "markdown",
   "id": "e6a025ab",
   "metadata": {},
   "source": [
    "**ВЫВОД:** \n",
    "\n",
    "- Подготовлен submission_modified файл для получения sales_submission прогноза. \n",
    "- В ходе подготовки к sales_submission файлу добавлены дополнительне колонки прзнаков, которые использовались при обучении модели - выходные и праздничные дни, локация и размер магазина, маркер товара (шт или г), формат магазина. В качестве цены за единицу товара была добалена средняя цена, рассчитанная за весь период для пар товар-магазин. \n",
    "- Также из изначального sales_submission файла исключены товары, для которых мы не делали обучение модели. Остались только те товары, которые входили в топ-50 отобранных по выручке. \n",
    "- Полученный файл submission_modified подается на вход обученной модели, чтобы получить предсказания на следующие 14 дней по топ-50 товарам"
   ]
  },
  {
   "cell_type": "code",
   "execution_count": null,
   "id": "f67186bf",
   "metadata": {},
   "outputs": [],
   "source": []
  }
 ],
 "metadata": {
  "kernelspec": {
   "display_name": "Python 3 (ipykernel)",
   "language": "python",
   "name": "python3"
  },
  "language_info": {
   "codemirror_mode": {
    "name": "ipython",
    "version": 3
   },
   "file_extension": ".py",
   "mimetype": "text/x-python",
   "name": "python",
   "nbconvert_exporter": "python",
   "pygments_lexer": "ipython3",
   "version": "3.9.18"
  },
  "toc": {
   "base_numbering": 1,
   "nav_menu": {},
   "number_sections": true,
   "sideBar": true,
   "skip_h1_title": false,
   "title_cell": "Table of Contents",
   "title_sidebar": "Contents",
   "toc_cell": false,
   "toc_position": {},
   "toc_section_display": true,
   "toc_window_display": false
  }
 },
 "nbformat": 4,
 "nbformat_minor": 5
}
